{
 "cells": [
  {
   "cell_type": "code",
   "execution_count": 1,
   "metadata": {},
   "outputs": [],
   "source": [
    "import os\n",
    "import sys\n",
    "\n",
    "# Note that the path to spark home could be different for you. This one is for HortonWorks Data Platform\n",
    "os.environ[\"SPARK_HOME\"] = \"/usr/hdp/current/spark2-client\"\n",
    "os.environ[\"PYLIB\"] = os.environ[\"SPARK_HOME\"] + \"/python/lib\"\n",
    "# In below two lines, use /usr/bin/python2.7 if you want to use Python 2\n",
    "os.environ[\"PYSPARK_PYTHON\"] = \"/usr/local/anaconda/bin/python\" \n",
    "os.environ[\"PYSPARK_DRIVER_PYTHON\"] = \"/usr/local/anaconda/bin/python\"\n",
    "\n",
    "# The version for py4j could be different for you\n",
    "sys.path.insert(0, os.environ[\"PYLIB\"] +\"/py4j-0.10.4-src.zip\")\n",
    "sys.path.insert(0, os.environ[\"PYLIB\"] +\"/pyspark.zip\")\n",
    "\n",
    "# NOTE: Whichever package you want mention here.\n",
    "# os.environ['PYSPARK_SUBMIT_ARGS'] = '--packages com.databricks:spark-xml_2.10:0.4.1 pyspark-shell' \n",
    "# os.environ['PYSPARK_SUBMIT_ARGS'] = '--packages com.databricks:spark-xml_2.11:0.6.0 pyspark-shell'\n",
    "# com.databricks:spark-avro_2.11:3.2.0\n",
    "#os.environ['PYSPARK_SUBMIT_ARGS'] = '--packages com.databricks:spark-xml_2.11:0.6.0,com.databricks:spark-avro_2.11:3.2.0 pyspark-shell'\n",
    "os.environ['PYSPARK_SUBMIT_ARGS'] = '--driver-class-path ~/mysql-connector-java-5.1.36-bin.jar --jars ~/mysql-connector-java-5.1.36-bin.jar --packages com.databricks:spark-xml_2.11:0.6.0,com.databricks:spark-avro_2.11:3.2.0 pyspark-shell'"
   ]
  },
  {
   "cell_type": "code",
   "execution_count": 2,
   "metadata": {},
   "outputs": [],
   "source": [
    "#Entrypoint 2.x\n",
    "from pyspark.sql import SparkSession\n",
    "spark = SparkSession.builder.appName(\"Spark SQL basic example\").enableHiveSupport().getOrCreate()\n",
    "sc = spark.sparkContext\n",
    "# specify .master(\"yarn\")"
   ]
  },
  {
   "cell_type": "code",
   "execution_count": 3,
   "metadata": {},
   "outputs": [],
   "source": [
    "from pyspark.sql import Row\n",
    "import re\n",
    "\n",
    "regex = '^([^ ]+) \\- \\- \\[(.+)\\] \"(.+) (.+) (.+)\" ([0-9]+) ([0-9]+)'\n",
    "\n",
    "def toarry(line):\n",
    "    m = re.match(regex, line)\n",
    "    if m:\n",
    "        g = m.groups()\n",
    "        if len(g) > 0:\n",
    "            return [Row(host=g[0], datetime=g[1], type=g[2], url=g[3], retcode=g[5], timetaken=g[6])]\n",
    "    return []\n",
    "\n",
    "\n",
    "lines = sc.textFile(\"/data/spark/project/access/\")\n",
    "rows = lines.flatMap(toarry)\n"
   ]
  },
  {
   "cell_type": "code",
   "execution_count": 4,
   "metadata": {},
   "outputs": [
    {
     "data": {
      "text/plain": [
       "1612715"
      ]
     },
     "execution_count": 4,
     "metadata": {},
     "output_type": "execute_result"
    }
   ],
   "source": [
    "rows.count()"
   ]
  },
  {
   "cell_type": "code",
   "execution_count": 5,
   "metadata": {
    "scrolled": true
   },
   "outputs": [
    {
     "name": "stdout",
     "output_type": "stream",
     "text": [
      "+--------------------+--------------+-------+---------+-------+--------------------+\n",
      "|            datetime|          host|retcode|timetaken|   type|                 url|\n",
      "+--------------------+--------------+-------+---------+-------+--------------------+\n",
      "|27/Sep/2015:06:48...|           ::1|    200|      125|OPTIONS|                   *|\n",
      "|27/Sep/2015:06:48...|           ::1|    200|      125|OPTIONS|                   *|\n",
      "|27/Sep/2015:06:48...|           ::1|    200|      125|OPTIONS|                   *|\n",
      "|27/Sep/2015:06:48...|  66.249.65.26|    200|     7507|    GET|/node/538/done?si...|\n",
      "|27/Sep/2015:06:49...|107.170.18.142|    304|      125|    GET|/sites/default/fi...|\n",
      "|27/Sep/2015:06:49...|107.170.18.142|    304|      125|    GET|/sites/default/fi...|\n",
      "|27/Sep/2015:06:49...|107.170.18.142|    304|      125|    GET|/sites/default/fi...|\n",
      "|27/Sep/2015:06:49...|107.170.18.142|    304|      125|    GET|/sites/default/fi...|\n",
      "|27/Sep/2015:06:49...|107.170.18.142|    304|      125|    GET|/sites/default/fi...|\n",
      "|27/Sep/2015:06:49...|107.170.18.142|    304|      125|    GET|/sites/default/fi...|\n",
      "|27/Sep/2015:06:49...|107.170.18.142|    304|      124|    GET|/sites/default/fi...|\n",
      "|27/Sep/2015:06:49...|    5.9.106.81|    301|      515|    GET|/page/big-data-ha...|\n",
      "|27/Sep/2015:06:49...|    5.9.94.207|    200|    89056|    GET|/page/big-data-an...|\n",
      "|27/Sep/2015:06:49...|107.170.18.142|    304|      125|    GET|/sites/default/fi...|\n",
      "|27/Sep/2015:06:49...|107.170.18.142|    304|      124|    GET|/sites/default/fi...|\n",
      "|27/Sep/2015:06:49...|    5.9.106.81|    200|    37120|    GET|/page/big-data-ha...|\n",
      "|27/Sep/2015:06:49...|107.170.18.142|    200|     3259|    GET|/sites/default/fi...|\n",
      "|27/Sep/2015:06:49...|107.170.18.142|    200|    19821|    GET|/sites/default/fi...|\n",
      "|27/Sep/2015:06:49...|107.170.18.142|    200|    14362|    GET|/sites/default/fi...|\n",
      "|27/Sep/2015:06:49...|107.170.18.142|    200|      744|    GET|/sites/default/fi...|\n",
      "+--------------------+--------------+-------+---------+-------+--------------------+\n",
      "only showing top 20 rows\n",
      "\n"
     ]
    }
   ],
   "source": [
    "df = rows.toDF()\n",
    "df.show()"
   ]
  },
  {
   "cell_type": "code",
   "execution_count": null,
   "metadata": {},
   "outputs": [],
   "source": []
  }
 ],
 "metadata": {
  "kernelspec": {
   "display_name": "Python 3",
   "language": "python",
   "name": "python3"
  },
  "language_info": {
   "codemirror_mode": {
    "name": "ipython",
    "version": 3
   },
   "file_extension": ".py",
   "mimetype": "text/x-python",
   "name": "python",
   "nbconvert_exporter": "python",
   "pygments_lexer": "ipython3",
   "version": "3.6.8"
  },
  "toc": {
   "base_numbering": 1,
   "nav_menu": {},
   "number_sections": true,
   "sideBar": true,
   "skip_h1_title": false,
   "title_cell": "Table of Contents",
   "title_sidebar": "Contents",
   "toc_cell": false,
   "toc_position": {},
   "toc_section_display": true,
   "toc_window_display": false
  }
 },
 "nbformat": 4,
 "nbformat_minor": 2
}
