{
 "cells": [
  {
   "cell_type": "markdown",
   "metadata": {},
   "source": [
    "# Solving Problems with Spark DataFrame"
   ]
  },
  {
   "cell_type": "markdown",
   "metadata": {},
   "source": [
    "## Intialization"
   ]
  },
  {
   "cell_type": "code",
   "execution_count": 1,
   "metadata": {},
   "outputs": [],
   "source": [
    "import os\n",
    "import sys\n",
    "\n",
    "# Note that the path to spark home could be different for you. This one is for HortonWorks Data Platform\n",
    "os.environ[\"SPARK_HOME\"] = \"/usr/hdp/current/spark2-client\"\n",
    "os.environ[\"PYLIB\"] = os.environ[\"SPARK_HOME\"] + \"/python/lib\"\n",
    "# In below two lines, use /usr/bin/python2.7 if you want to use Python 2\n",
    "os.environ[\"PYSPARK_PYTHON\"] = \"/usr/local/anaconda/bin/python\" \n",
    "os.environ[\"PYSPARK_DRIVER_PYTHON\"] = \"/usr/local/anaconda/bin/python\"\n",
    "\n",
    "# The version for py4j could be different for you\n",
    "sys.path.insert(0, os.environ[\"PYLIB\"] +\"/py4j-0.10.4-src.zip\")\n",
    "sys.path.insert(0, os.environ[\"PYLIB\"] +\"/pyspark.zip\")\n",
    "\n",
    "# NOTE: Whichever package you want mention here.\n",
    "# os.environ['PYSPARK_SUBMIT_ARGS'] = '--packages com.databricks:spark-xml_2.10:0.4.1 pyspark-shell' \n",
    "# os.environ['PYSPARK_SUBMIT_ARGS'] = '--packages com.databricks:spark-xml_2.11:0.6.0 pyspark-shell'\n",
    "# com.databricks:spark-avro_2.11:3.2.0\n",
    "os.environ['PYSPARK_SUBMIT_ARGS'] = '--packages com.databricks:spark-xml_2.11:0.6.0,com.databricks:spark-avro_2.11:3.2.0 pyspark-shell'"
   ]
  },
  {
   "cell_type": "code",
   "execution_count": 2,
   "metadata": {},
   "outputs": [],
   "source": [
    "#Entrypoint 2.x\n",
    "from pyspark.sql import SparkSession\n",
    "spark = SparkSession.builder.appName(\"Spark SQL basic example\").enableHiveSupport().getOrCreate()\n",
    "# specify .master(\"yarn\")\n",
    "sc = spark.sparkContext"
   ]
  },
  {
   "cell_type": "code",
   "execution_count": 3,
   "metadata": {},
   "outputs": [
    {
     "data": {
      "text/plain": [
       "<pyspark.context.SparkContext at 0x7f459c56a7b8>"
      ]
     },
     "execution_count": 3,
     "metadata": {},
     "output_type": "execute_result"
    }
   ],
   "source": [
    "sc"
   ]
  },
  {
   "cell_type": "markdown",
   "metadata": {},
   "source": [
    "## Q1: Analyse the crimes in Chicago"
   ]
  },
  {
   "cell_type": "code",
   "execution_count": 4,
   "metadata": {},
   "outputs": [
    {
     "name": "stdout",
     "output_type": "stream",
     "text": [
      "+-------+-----------+--------------------+--------------------+----+--------------------+--------------------+--------------------+------+--------+----+--------+----+--------------+--------+------------+------------+----+--------------------+------------+-------------+--------------------+\n",
      "|     ID|Case Number|                Date|               Block|IUCR|        Primary Type|         Description|Location Description|Arrest|Domestic|Beat|District|Ward|Community Area|FBI Code|X Coordinate|Y Coordinate|Year|          Updated On|    Latitude|    Longitude|            Location|\n",
      "+-------+-----------+--------------------+--------------------+----+--------------------+--------------------+--------------------+------+--------+----+--------+----+--------------+--------+------------+------------+----+--------------------+------------+-------------+--------------------+\n",
      "|2739513|   HJ372338|05/19/2003 01:15:...|     0000X E 74TH ST|0560|             ASSAULT|              SIMPLE|RESIDENCE PORCH/H...| false|    true|0323|     003|   6|            69|     08A|     1178178|     1855971|2003|04/15/2016 08:55:...|41.760095861|-87.622537236|(41.760095861, -8...|\n",
      "|2739514|   HJ369068|05/17/2003 11:20:...|063XX S DR MARTIN...|0460|             BATTERY|              SIMPLE|          RESTAURANT| false|   false|0312|     003|  20|            69|     08B|     1180005|     1863280|2003|04/15/2016 08:55:...|41.780110888|-87.615617777|(41.780110888, -8...|\n",
      "|2739515|   HJ370488|05/17/2003 11:10:...|    069XX S STATE ST|0460|             BATTERY|              SIMPLE|              STREET| false|   false|0322|     003|   6|            69|     08B|     1177495|     1859111|2003|04/15/2016 08:55:...|41.768727829|-87.624945647|(41.768727829, -8...|\n",
      "|2739516|   HJ376384|05/20/2003 07:50:...|008XX N MICHIGAN AVE|0860|               THEFT|        RETAIL THEFT|  SMALL RETAIL STORE| false|   false|1833|     018|  42|             8|      06|     1177338|     1906181|2003|04/15/2016 08:55:...|41.897895128|-87.624096605|(41.897895128, -8...|\n",
      "|2739517|   HJ376366|05/18/2003 10:00:...|     015XX E 62ND ST|5002|       OTHER OFFENSE|OTHER VEHICLE OFF...|              STREET| false|   false|0314|     003|   5|            42|      26|     1187318|     1864355|2003|04/15/2016 08:55:...|41.782890153|-87.588773433|(41.782890153, -8...|\n",
      "|2739518|   HJ376379|05/20/2003 03:00:...| 046XX N RESERVE AVE|1320|     CRIMINAL DAMAGE|          TO VEHICLE|              STREET| false|   false|1614|     016|  36|            76|      14|     1117101|     1929941|2003|04/15/2016 08:55:...|41.964249268|-87.844848026|(41.964249268, -8...|\n",
      "|2739519|   HJ376375|05/20/2003 11:45:...|011XX S HAMILTON AVE|0460|             BATTERY|              SIMPLE|               OTHER|  true|   false|1224|     012|   2|            28|     08B|     1162121|     1895023|2003|04/15/2016 08:55:...|41.867608211|-87.680298775|(41.867608211, -8...|\n",
      "|2739520|   HJ376390|05/19/2003 11:00:...|009XX W WASHINGTO...|0890|               THEFT|       FROM BUILDING|               OTHER| false|   false|1212|     012|  27|            28|      06|     1169995|     1900722|2003|04/15/2016 08:55:...|41.883078679|-87.651225883|(41.883078679, -8...|\n",
      "|2739521|   HJ370465|05/16/2003 05:15:...|     011XX E 62ND ST|1753|OFFENSE INVOLVING...|SEX ASSLT OF CHIL...|           APARTMENT| false|    true|0314|     003|  20|            42|      02|     1184667|     1864123|2003|04/15/2016 08:55:...|41.782316106|-87.598499962|(41.782316106, -8...|\n",
      "|2739522|   HJ376382|05/18/2003 09:00:...|  030XX N SAWYER AVE|4230|          KIDNAPPING|  UNLAWFUL RESTRAINT|           RESIDENCE| false|    true|1412|     014|  35|            21|      26|     1154189|     1919962|2003|04/15/2016 08:55:...|41.936205014|-87.708751985|(41.936205014, -8...|\n",
      "|2739523|   HJ376374|05/13/2003 12:00:...|023XX S RIDGEWAY AVE|2825|       OTHER OFFENSE|HARASSMENT BY TEL...|           RESIDENCE| false|   false|1013|     010|  22|            30|      26|     1151740|     1888240|2003|04/15/2016 08:55:...| 41.84920524|-87.718587628|(41.84920524, -87...|\n",
      "|2739524|   HJ376353|05/20/2003 11:00:...|   050XX S TRIPP AVE|0620|            BURGLARY|      UNLAWFUL ENTRY|    RESIDENCE-GARAGE| false|   false|0815|     008|  23|            57|      05|     1148880|     1870934|2003|04/15/2016 08:55:...| 41.80177087|-87.729530622|(41.80177087, -87...|\n",
      "|2739525|   HJ376104|05/20/2003 05:30:...|004XX S MICHIGAN AVE|0890|               THEFT|       FROM BUILDING|COMMERCIAL / BUSI...| false|   false|0132|     001|   2|            32|      06|     1177352|     1898428|2003|04/15/2016 08:55:...|41.876620177| -87.62428048|(41.876620177, -8...|\n",
      "|2739526|   HJ376414|05/20/2003 05:45:...|013XX W FULLERTON...|0890|               THEFT|       FROM BUILDING|       ATHLETIC CLUB| false|   false|1933|     019|  32|             7|      06|     1167095|     1916066|2003|04/15/2016 08:55:...|41.925246375|-87.661433463|(41.925246375, -8...|\n",
      "|2739527|   HJ370602|05/17/2003 09:30:...|069XX S MICHIGAN AVE|0910| MOTOR VEHICLE THEFT|          AUTOMOBILE|              STREET| false|   false|0322|     003|   6|            69|      07|     1178363|     1858989|2003|04/15/2016 08:55:...|41.768373386|-87.621767713|(41.768373386, -8...|\n",
      "|2739528|   HJ376434|05/20/2003 07:45:...|    108XX S AVENUE F|1305|     CRIMINAL DAMAGE| CRIMINAL DEFACEMENT|    RESIDENCE-GARAGE| false|   false|0432|     004|  10|            52|      14|     1203511|     1833685|2003|04/15/2016 08:55:...|41.698329649|-87.530455397|(41.698329649, -8...|\n",
      "|2739529|   HJ376441|05/20/2003 08:40:...|047XX N ARTESIAN AVE|2820|       OTHER OFFENSE|    TELEPHONE THREAT|           APARTMENT| false|    true|1911|     019|  47|             4|      26|     1159183|     1931319|2003|04/15/2016 08:55:...|41.967267978| -87.69008524|(41.967267978, -8...|\n",
      "|2739530|   HJ376454|05/20/2003 04:00:...|028XX W JACKSON BLVD|2825|       OTHER OFFENSE|HARASSMENT BY TEL...|           APARTMENT| false|   false|1124|     011|   2|            27|      26|     1157560|     1898567|2003|04/15/2016 08:55:...|41.877427291|-87.696946533|(41.877427291, -8...|\n",
      "|2739531|   HJ376457|05/20/2003 02:35:...|066XX W SCHREIBER...|2820|       OTHER OFFENSE|    TELEPHONE THREAT|           RESIDENCE| false|    true|1611|     016|  41|            10|      26|     1130997|     1942409|2003|04/15/2016 08:55:...|41.998233889|-87.793466408|(41.998233889, -8...|\n",
      "|2739532|   HJ376449|05/20/2003 07:00:...|   002XX W KINZIE ST|0486|             BATTERY|DOMESTIC BATTERY ...|              STREET| false|    true|1831|     018|  42|             8|     08B|     1174543|     1902975|2003|04/15/2016 08:55:...|41.889160633|-87.634458166|(41.889160633, -8...|\n",
      "+-------+-----------+--------------------+--------------------+----+--------------------+--------------------+--------------------+------+--------+----+--------+----+--------------+--------+------------+------------+----+--------------------+------------+-------------+--------------------+\n",
      "only showing top 20 rows\n",
      "\n",
      "+-------+-----------+\n",
      "|     ID|Case Number|\n",
      "+-------+-----------+\n",
      "|2739513|   HJ372338|\n",
      "|2739514|   HJ369068|\n",
      "|2739515|   HJ370488|\n",
      "|2739516|   HJ376384|\n",
      "|2739517|   HJ376366|\n",
      "|2739518|   HJ376379|\n",
      "|2739519|   HJ376375|\n",
      "|2739520|   HJ376390|\n",
      "|2739521|   HJ370465|\n",
      "|2739522|   HJ376382|\n",
      "|2739523|   HJ376374|\n",
      "|2739524|   HJ376353|\n",
      "|2739525|   HJ376104|\n",
      "|2739526|   HJ376414|\n",
      "|2739527|   HJ370602|\n",
      "|2739528|   HJ376434|\n",
      "|2739529|   HJ376441|\n",
      "|2739530|   HJ376454|\n",
      "|2739531|   HJ376457|\n",
      "|2739532|   HJ376449|\n",
      "+-------+-----------+\n",
      "only showing top 20 rows\n",
      "\n",
      "+-------+-----------+--------------------+--------------------+----+--------------------+--------------------+--------------------+------+--------+----+--------+----+--------------+--------+------------+------------+----+--------------------+------------+-------------+--------------------+\n",
      "|     ID|Case Number|                Date|               Block|IUCR|        Primary Type|         Description|Location Description|Arrest|Domestic|Beat|District|Ward|Community Area|FBI Code|X Coordinate|Y Coordinate|Year|          Updated On|    Latitude|    Longitude|            Location|\n",
      "+-------+-----------+--------------------+--------------------+----+--------------------+--------------------+--------------------+------+--------+----+--------+----+--------------+--------+------------+------------+----+--------------------+------------+-------------+--------------------+\n",
      "|2739513|   HJ372338|05/19/2003 01:15:...|     0000X E 74TH ST|0560|             ASSAULT|              SIMPLE|RESIDENCE PORCH/H...| false|    true|0323|     003|   6|            69|     08A|     1178178|     1855971|2003|04/15/2016 08:55:...|41.760095861|-87.622537236|(41.760095861, -8...|\n",
      "|2739514|   HJ369068|05/17/2003 11:20:...|063XX S DR MARTIN...|0460|             BATTERY|              SIMPLE|          RESTAURANT| false|   false|0312|     003|  20|            69|     08B|     1180005|     1863280|2003|04/15/2016 08:55:...|41.780110888|-87.615617777|(41.780110888, -8...|\n",
      "|2739515|   HJ370488|05/17/2003 11:10:...|    069XX S STATE ST|0460|             BATTERY|              SIMPLE|              STREET| false|   false|0322|     003|   6|            69|     08B|     1177495|     1859111|2003|04/15/2016 08:55:...|41.768727829|-87.624945647|(41.768727829, -8...|\n",
      "|2739516|   HJ376384|05/20/2003 07:50:...|008XX N MICHIGAN AVE|0860|               THEFT|        RETAIL THEFT|  SMALL RETAIL STORE| false|   false|1833|     018|  42|             8|      06|     1177338|     1906181|2003|04/15/2016 08:55:...|41.897895128|-87.624096605|(41.897895128, -8...|\n",
      "|2739517|   HJ376366|05/18/2003 10:00:...|     015XX E 62ND ST|5002|       OTHER OFFENSE|OTHER VEHICLE OFF...|              STREET| false|   false|0314|     003|   5|            42|      26|     1187318|     1864355|2003|04/15/2016 08:55:...|41.782890153|-87.588773433|(41.782890153, -8...|\n",
      "|2739518|   HJ376379|05/20/2003 03:00:...| 046XX N RESERVE AVE|1320|     CRIMINAL DAMAGE|          TO VEHICLE|              STREET| false|   false|1614|     016|  36|            76|      14|     1117101|     1929941|2003|04/15/2016 08:55:...|41.964249268|-87.844848026|(41.964249268, -8...|\n",
      "|2739519|   HJ376375|05/20/2003 11:45:...|011XX S HAMILTON AVE|0460|             BATTERY|              SIMPLE|               OTHER|  true|   false|1224|     012|   2|            28|     08B|     1162121|     1895023|2003|04/15/2016 08:55:...|41.867608211|-87.680298775|(41.867608211, -8...|\n",
      "|2739520|   HJ376390|05/19/2003 11:00:...|009XX W WASHINGTO...|0890|               THEFT|       FROM BUILDING|               OTHER| false|   false|1212|     012|  27|            28|      06|     1169995|     1900722|2003|04/15/2016 08:55:...|41.883078679|-87.651225883|(41.883078679, -8...|\n",
      "|2739521|   HJ370465|05/16/2003 05:15:...|     011XX E 62ND ST|1753|OFFENSE INVOLVING...|SEX ASSLT OF CHIL...|           APARTMENT| false|    true|0314|     003|  20|            42|      02|     1184667|     1864123|2003|04/15/2016 08:55:...|41.782316106|-87.598499962|(41.782316106, -8...|\n",
      "|2739522|   HJ376382|05/18/2003 09:00:...|  030XX N SAWYER AVE|4230|          KIDNAPPING|  UNLAWFUL RESTRAINT|           RESIDENCE| false|    true|1412|     014|  35|            21|      26|     1154189|     1919962|2003|04/15/2016 08:55:...|41.936205014|-87.708751985|(41.936205014, -8...|\n",
      "|2739523|   HJ376374|05/13/2003 12:00:...|023XX S RIDGEWAY AVE|2825|       OTHER OFFENSE|HARASSMENT BY TEL...|           RESIDENCE| false|   false|1013|     010|  22|            30|      26|     1151740|     1888240|2003|04/15/2016 08:55:...| 41.84920524|-87.718587628|(41.84920524, -87...|\n",
      "|2739524|   HJ376353|05/20/2003 11:00:...|   050XX S TRIPP AVE|0620|            BURGLARY|      UNLAWFUL ENTRY|    RESIDENCE-GARAGE| false|   false|0815|     008|  23|            57|      05|     1148880|     1870934|2003|04/15/2016 08:55:...| 41.80177087|-87.729530622|(41.80177087, -87...|\n",
      "|2739525|   HJ376104|05/20/2003 05:30:...|004XX S MICHIGAN AVE|0890|               THEFT|       FROM BUILDING|COMMERCIAL / BUSI...| false|   false|0132|     001|   2|            32|      06|     1177352|     1898428|2003|04/15/2016 08:55:...|41.876620177| -87.62428048|(41.876620177, -8...|\n",
      "|2739526|   HJ376414|05/20/2003 05:45:...|013XX W FULLERTON...|0890|               THEFT|       FROM BUILDING|       ATHLETIC CLUB| false|   false|1933|     019|  32|             7|      06|     1167095|     1916066|2003|04/15/2016 08:55:...|41.925246375|-87.661433463|(41.925246375, -8...|\n",
      "|2739527|   HJ370602|05/17/2003 09:30:...|069XX S MICHIGAN AVE|0910| MOTOR VEHICLE THEFT|          AUTOMOBILE|              STREET| false|   false|0322|     003|   6|            69|      07|     1178363|     1858989|2003|04/15/2016 08:55:...|41.768373386|-87.621767713|(41.768373386, -8...|\n",
      "|2739528|   HJ376434|05/20/2003 07:45:...|    108XX S AVENUE F|1305|     CRIMINAL DAMAGE| CRIMINAL DEFACEMENT|    RESIDENCE-GARAGE| false|   false|0432|     004|  10|            52|      14|     1203511|     1833685|2003|04/15/2016 08:55:...|41.698329649|-87.530455397|(41.698329649, -8...|\n",
      "|2739529|   HJ376441|05/20/2003 08:40:...|047XX N ARTESIAN AVE|2820|       OTHER OFFENSE|    TELEPHONE THREAT|           APARTMENT| false|    true|1911|     019|  47|             4|      26|     1159183|     1931319|2003|04/15/2016 08:55:...|41.967267978| -87.69008524|(41.967267978, -8...|\n",
      "|2739530|   HJ376454|05/20/2003 04:00:...|028XX W JACKSON BLVD|2825|       OTHER OFFENSE|HARASSMENT BY TEL...|           APARTMENT| false|   false|1124|     011|   2|            27|      26|     1157560|     1898567|2003|04/15/2016 08:55:...|41.877427291|-87.696946533|(41.877427291, -8...|\n",
      "|2739531|   HJ376457|05/20/2003 02:35:...|066XX W SCHREIBER...|2820|       OTHER OFFENSE|    TELEPHONE THREAT|           RESIDENCE| false|    true|1611|     016|  41|            10|      26|     1130997|     1942409|2003|04/15/2016 08:55:...|41.998233889|-87.793466408|(41.998233889, -8...|\n",
      "|2739532|   HJ376449|05/20/2003 07:00:...|   002XX W KINZIE ST|0486|             BATTERY|DOMESTIC BATTERY ...|              STREET| false|    true|1831|     018|  42|             8|     08B|     1174543|     1902975|2003|04/15/2016 08:55:...|41.889160633|-87.634458166|(41.889160633, -8...|\n",
      "+-------+-----------+--------------------+--------------------+----+--------------------+--------------------+--------------------+------+--------+----+--------+----+--------------+--------+------------+------------+----+--------------------+------------+-------------+--------------------+\n",
      "only showing top 20 rows\n",
      "\n"
     ]
    },
    {
     "name": "stdout",
     "output_type": "stream",
     "text": [
      "+--------------------+--------+\n",
      "|        Primary Type|count(1)|\n",
      "+--------------------+--------+\n",
      "|OFFENSE INVOLVING...|   40558|\n",
      "|            STALKING|    2984|\n",
      "|PUBLIC PEACE VIOL...|   45055|\n",
      "|           OBSCENITY|     411|\n",
      "|NON-CRIMINAL (SUB...|       4|\n",
      "|                null|       1|\n",
      "|               ARSON|   10376|\n",
      "|   DOMESTIC VIOLENCE|       1|\n",
      "|            GAMBLING|   14035|\n",
      "|   CRIMINAL TRESPASS|  180200|\n",
      "|             ASSAULT|  380465|\n",
      "|      NON - CRIMINAL|      38|\n",
      "|LIQUOR LAW VIOLATION|   13612|\n",
      "| MOTOR VEHICLE THEFT|  293616|\n",
      "|               THEFT| 1293890|\n",
      "|             BATTERY| 1136963|\n",
      "|             ROBBERY|  234628|\n",
      "|            HOMICIDE|    8183|\n",
      "|           RITUALISM|      23|\n",
      "|    PUBLIC INDECENCY|     140|\n",
      "+--------------------+--------+\n",
      "only showing top 20 rows\n",
      "\n"
     ]
    }
   ],
   "source": [
    "# Load data\n",
    "df = spark.read.csv(\"/data/Chicago_Crimes-2001-to-present.csv._COPYING_\", header=True)\n",
    "df.show()\n",
    "df.select(\"ID\", \"Case Number\").show()\n",
    "df.createOrReplaceTempView(\"chicago\")\n",
    "def q(query): spark.sql(query).show()\n",
    "q(\"select * from chicago limit 100\")\n",
    "q(\"select `Primary Type`, count(*) from chicago group by `Primary Type`\")\n"
   ]
  },
  {
   "cell_type": "code",
   "execution_count": null,
   "metadata": {},
   "outputs": [],
   "source": []
  },
  {
   "cell_type": "code",
   "execution_count": null,
   "metadata": {},
   "outputs": [],
   "source": []
  },
  {
   "cell_type": "markdown",
   "metadata": {},
   "source": [
    "## Q: Analyse the New York Stock Exchange"
   ]
  },
  {
   "cell_type": "code",
   "execution_count": 5,
   "metadata": {},
   "outputs": [
    {
     "name": "stdout",
     "output_type": "stream",
     "text": [
      "-28\t18.22\t18.34\t17.53\t17.83\t1739300\t17.83\r\n",
      "NYSE\tCVA\t2009-01-27\t18.12\t18.25\t17.52\t17.83\t1360900\t17.83\r\n",
      "NYSE\tCVA\t2009-01-26\t18.49\t18.84\t17.95\t18.12\t1340900\t18.12\r\n",
      "NYSE\tCVA\t2009-01-23\t18.29\t18.55\t17.87\t18.36\t1258500\t18.36\r\n",
      "NYSE\tCVA\t2009-01-22\t18.88\t18.90\t18.29\t18.54\t1623300\t18.54\r\n",
      "NYSE\tCVA\t2009-01-21\t19.49\t19.83\t18.75\t19.22\t1598400\t19.22\r\n",
      "NYSE\tCVA\t2009-01-20\t20.92\t21.04\t19.31\t19.48\t1435400\t19.48\r\n",
      "NYSE\tCVA\t2009-01-16\t20.76\t21.06\t20.19\t20.93\t966600\t20.93\r\n",
      "NYSE\tCVA\t2009-01-15\t19.40\t20.75\t19.30\t20.43\t1063900\t20.43\r\n",
      "NYSE\tCVA\t2009-01-14\t19.69\t19.95\t19.00\t19.64\t1744100\t19.64\r\n",
      "NYSE\tCVA\t2009-01-13\t20.11\t20.11\t19.31\t19.65\t1261200\t19.65\r\n",
      "NYSE\tCVA\t2009-01-12\t20.46\t20.88\t19.91\t20.24\t700800\t20.24\r\n",
      "NYSE\tCVA\t2009-01-09\t21.08\t21.63\t20.30\t20.75\t723800\t20.75\r\n",
      "NYSE\tCVA\t2009-01-08\t21.08\t21.25\t20.43\t20.81\t1633700\t20.81\r\n",
      "NYSE\tCVA\t2009-01-07\t22.34\t22.50\t21.22\t21.32\t1169500\t21.32\r\n",
      "NYSE\tCVA\t2009-01-06\t22.85\t22.92\t22.25\t22.50\t1058700\t22.50\r\n",
      "NYSE\tCVA\t2009-01-05\t21.79\t22.89\t21.49\t22.68\t981100\t22.68\r\n",
      "NYSE\tCVA\t2009-01-02\t21.76\t22.80\t21.46\t21.71\t1344600\t21.71\r\n"
     ]
    }
   ],
   "source": [
    "# Check Data\n",
    "!hadoop fs -tail /data/NYSE_daily_File"
   ]
  },
  {
   "cell_type": "code",
   "execution_count": 7,
   "metadata": {},
   "outputs": [
    {
     "name": "stdout",
     "output_type": "stream",
     "text": [
      "root\n",
      " |-- _c0: string (nullable = true)\n",
      " |-- _c1: string (nullable = true)\n",
      " |-- _c2: timestamp (nullable = true)\n",
      " |-- _c3: double (nullable = true)\n",
      " |-- _c4: double (nullable = true)\n",
      " |-- _c5: double (nullable = true)\n",
      " |-- _c6: double (nullable = true)\n",
      " |-- _c7: integer (nullable = true)\n",
      " |-- _c8: double (nullable = true)\n",
      "\n"
     ]
    }
   ],
   "source": [
    "df1 = spark.read.csv(\"/data/NYSE_daily_File\", sep=\"\\t\",header=False, inferSchema=True)\n",
    "df1.printSchema()"
   ]
  },
  {
   "cell_type": "code",
   "execution_count": 8,
   "metadata": {},
   "outputs": [
    {
     "name": "stdout",
     "output_type": "stream",
     "text": [
      "+--------+----------+-------+----------+\n",
      "|exchange|price_open|symbol1|       ymd|\n",
      "+--------+----------+-------+----------+\n",
      "|    NYSE|     35.39|    CLI|2009-12-31|\n",
      "|    NYSE|     35.22|    CLI|2009-12-30|\n",
      "|    NYSE|     35.69|    CLI|2009-12-29|\n",
      "|    NYSE|     35.67|    CLI|2009-12-28|\n",
      "|    NYSE|     35.38|    CLI|2009-12-24|\n",
      "|    NYSE|     35.13|    CLI|2009-12-23|\n",
      "|    NYSE|     34.76|    CLI|2009-12-22|\n",
      "|    NYSE|     34.65|    CLI|2009-12-21|\n",
      "|    NYSE|     34.11|    CLI|2009-12-18|\n",
      "|    NYSE|     34.18|    CLI|2009-12-17|\n",
      "|    NYSE|     34.79|    CLI|2009-12-16|\n",
      "|    NYSE|      34.6|    CLI|2009-12-15|\n",
      "|    NYSE|     34.21|    CLI|2009-12-14|\n",
      "|    NYSE|     33.55|    CLI|2009-12-11|\n",
      "|    NYSE|     33.61|    CLI|2009-12-10|\n",
      "|    NYSE|     33.25|    CLI|2009-12-09|\n",
      "|    NYSE|     32.57|    CLI|2009-12-08|\n",
      "|    NYSE|     33.63|    CLI|2009-12-07|\n",
      "|    NYSE|     33.46|    CLI|2009-12-04|\n",
      "|    NYSE|     32.55|    CLI|2009-12-03|\n",
      "+--------+----------+-------+----------+\n",
      "only showing top 20 rows\n",
      "\n"
     ]
    }
   ],
   "source": [
    "# Using RDD\n",
    "linesrdd = sc.textFile(\"/data/NYSE_daily_File\")\n",
    "from pyspark.sql import Row\n",
    "def toRow(line):\n",
    "    arr = line.split()\n",
    "    return Row(exchange=arr[0], symbol1=arr[1], ymd=arr[2], price_open=float(arr[3]))\n",
    "\n",
    "rowrdd = linesrdd.map(toRow)\n",
    "rowrdd.toDF().show()\n"
   ]
  },
  {
   "cell_type": "code",
   "execution_count": null,
   "metadata": {},
   "outputs": [],
   "source": []
  },
  {
   "cell_type": "code",
   "execution_count": null,
   "metadata": {},
   "outputs": [],
   "source": []
  },
  {
   "cell_type": "code",
   "execution_count": null,
   "metadata": {},
   "outputs": [],
   "source": []
  },
  {
   "cell_type": "markdown",
   "metadata": {},
   "source": [
    "## Find IMDB top 50"
   ]
  },
  {
   "cell_type": "code",
   "execution_count": 9,
   "metadata": {},
   "outputs": [
    {
     "name": "stdout",
     "output_type": "stream",
     "text": [
      "Found 23 items\r\n",
      "-rw-r--r--   3 hdfs hdfs       6401 2019-07-22 17:55 /data/ml-100k/README\r\n",
      "-rw-r--r--   3 hdfs hdfs        716 2019-07-22 17:55 /data/ml-100k/allbut.pl\r\n",
      "-rw-r--r--   3 hdfs hdfs        643 2019-07-22 17:55 /data/ml-100k/mku.sh\r\n",
      "-rw-r--r--   3 hdfs hdfs    1979173 2019-07-22 17:55 /data/ml-100k/u.data\r\n",
      "-rw-r--r--   3 hdfs hdfs        202 2019-07-22 17:55 /data/ml-100k/u.genre\r\n",
      "-rw-r--r--   3 hdfs hdfs         36 2019-07-22 17:55 /data/ml-100k/u.info\r\n",
      "-rw-r--r--   3 hdfs hdfs     236344 2019-07-22 17:55 /data/ml-100k/u.item\r\n",
      "-rw-r--r--   3 hdfs hdfs        193 2019-07-22 17:55 /data/ml-100k/u.occupation\r\n",
      "-rw-r--r--   3 hdfs hdfs      22628 2019-07-22 17:55 /data/ml-100k/u.user\r\n",
      "-rw-r--r--   3 hdfs hdfs    1586544 2019-07-22 17:55 /data/ml-100k/u1.base\r\n",
      "-rw-r--r--   3 hdfs hdfs     392629 2019-07-22 17:55 /data/ml-100k/u1.test\r\n",
      "-rw-r--r--   3 hdfs hdfs    1583948 2019-07-22 17:55 /data/ml-100k/u2.base\r\n",
      "-rw-r--r--   3 hdfs hdfs     395225 2019-07-22 17:55 /data/ml-100k/u2.test\r\n",
      "-rw-r--r--   3 hdfs hdfs    1582546 2019-07-22 17:55 /data/ml-100k/u3.base\r\n",
      "-rw-r--r--   3 hdfs hdfs     396627 2019-07-22 17:55 /data/ml-100k/u3.test\r\n",
      "-rw-r--r--   3 hdfs hdfs    1581878 2019-07-22 17:55 /data/ml-100k/u4.base\r\n",
      "-rw-r--r--   3 hdfs hdfs     397295 2019-07-22 17:55 /data/ml-100k/u4.test\r\n",
      "-rw-r--r--   3 hdfs hdfs    1581776 2019-07-22 17:55 /data/ml-100k/u5.base\r\n",
      "-rw-r--r--   3 hdfs hdfs     397397 2019-07-22 17:55 /data/ml-100k/u5.test\r\n",
      "-rw-r--r--   3 hdfs hdfs    1792501 2019-07-22 17:55 /data/ml-100k/ua.base\r\n",
      "-rw-r--r--   3 hdfs hdfs     186672 2019-07-22 17:55 /data/ml-100k/ua.test\r\n",
      "-rw-r--r--   3 hdfs hdfs    1792476 2019-07-22 17:55 /data/ml-100k/ub.base\r\n",
      "-rw-r--r--   3 hdfs hdfs     186697 2019-07-22 17:55 /data/ml-100k/ub.test\r\n"
     ]
    }
   ],
   "source": [
    "!hadoop fs -ls /data/ml-100k"
   ]
  },
  {
   "cell_type": "code",
   "execution_count": 10,
   "metadata": {},
   "outputs": [
    {
     "name": "stdout",
     "output_type": "stream",
     "text": [
      "+----------+------------------+------+--------------------+\n",
      "|movie_name|       avg_ratings|counts|                 _c1|\n",
      "+----------+------------------+------+--------------------+\n",
      "|       408| 4.491071428571429|   112|Close Shave, A (1...|\n",
      "|       318| 4.466442953020135|   298|Schindler's List ...|\n",
      "|       169| 4.466101694915254|   118|Wrong Trousers, T...|\n",
      "|       483|  4.45679012345679|   243|   Casablanca (1942)|\n",
      "|        64| 4.445229681978798|   283|Shawshank Redempt...|\n",
      "|       603|4.3875598086124405|   209|  Rear Window (1954)|\n",
      "|        12| 4.385767790262173|   267|Usual Suspects, T...|\n",
      "|        50|4.3584905660377355|   583|    Star Wars (1977)|\n",
      "|       178|             4.344|   125| 12 Angry Men (1957)|\n",
      "|       134| 4.292929292929293|   198| Citizen Kane (1941)|\n",
      "|       427| 4.292237442922374|   219|To Kill a Mocking...|\n",
      "|       357| 4.291666666666667|   264|One Flew Over the...|\n",
      "|        98|  4.28974358974359|   390|Silence of the La...|\n",
      "|       480| 4.284916201117318|   179|North by Northwes...|\n",
      "|       127| 4.283292978208232|   413|Godfather, The (1...|\n",
      "|       285| 4.265432098765432|   162|Secrets & Lies (1...|\n",
      "|       272| 4.262626262626263|   198|Good Will Hunting...|\n",
      "|       657| 4.259541984732825|   131|Manchurian Candid...|\n",
      "|       474| 4.252577319587629|   194|Dr. Strangelove o...|\n",
      "|       174| 4.252380952380952|   420|Raiders of the Lo...|\n",
      "+----------+------------------+------+--------------------+\n",
      "only showing top 20 rows\n",
      "\n"
     ]
    }
   ],
   "source": [
    "u_item = spark.read.csv(\"/data/ml-100k/u.item\", header=False, sep=\"|\")\n",
    "u_data = spark.read.csv(\"/data/ml-100k/u.data\", header=False, sep=\"\\t\")\n",
    "u_data.createOrReplaceTempView(\"u_data\")\n",
    "u_item.createOrReplaceTempView(\"u_item\")\n",
    "movie_ratings = spark.sql(\"select _c1 as movie_name, AVG(_c2) as avg_ratings, count(*) as counts from u_data group by _c1\")\n",
    "movie_ratings.createOrReplaceTempView(\"movie_ratings\")    \n",
    "top100movies = spark.sql(\"select * from movie_ratings where counts > 100 order by avg_ratings DESC limit 100\")\n",
    "top100movies.createOrReplaceTempView(\"top100movies\")\n",
    "top100movienames = spark.sql(\"select tm.*, ui._c1 from top100movies tm, u_item ui where ui._c0 = tm.movie_name\")\n",
    "top100movienames.show()\n"
   ]
  },
  {
   "cell_type": "markdown",
   "metadata": {},
   "source": [
    "## Amazon Reveiws"
   ]
  },
  {
   "cell_type": "code",
   "execution_count": 12,
   "metadata": {},
   "outputs": [],
   "source": [
    "# Create dataframe from this file /data/amazon_review_full_csv/train.csv such that it has three columns: rating, title, review \"rating\", \"title\", \"review\"\n",
    "# If the title or review contains a double quote, it is represented as \"\" (i.e. two double quotes) \n",
    "\n",
    "data = sc.textFile(\"/data/amazon_review_full_csv/train.csv\")"
   ]
  },
  {
   "cell_type": "code",
   "execution_count": 13,
   "metadata": {},
   "outputs": [
    {
     "name": "stdout",
     "output_type": "stream",
     "text": [
      "+-----+--------------------+--------------------+\n",
      "|label|              review|               title|\n",
      "+-----+--------------------+--------------------+\n",
      "|    3|Gave this to my d...|  more like funchuck|\n",
      "|    5|I hope a lot of p...|           Inspiring|\n",
      "|    5|I'm reading a lot...|The best soundtra...|\n",
      "|    4|The music of Yasu...|    Chrono Cross OST|\n",
      "|    5|Probably the grea...| Too good to be true|\n",
      "|    5|There's a reason ...|There's a reason ...|\n",
      "|    1|This is a self-pu...|        Buyer beware|\n",
      "|    4|I was a dissapoin...|Errors, but great...|\n",
      "|    1|A complete waste ...|          The Worst!|\n",
      "|    1|I guess you have ...|           Oh please|\n",
      "|    1|I feel I have to ...|Awful beyond belief!|\n",
      "|    4|When you hear fol...|A romantic zen ba...|\n",
      "|    5|Excellent stockin...|Lower leg comfort...|\n",
      "|    3|It took almost 3 ...|Delivery was very...|\n",
      "|    2|sizes are much sm...|sizes recomended ...|\n",
      "|    3|Full of intrigue ...|            Overbury|\n",
      "|    1|Rather than scrat...|Another Abysmal D...|\n",
      "|    4|Steven Wardell's ...|Wardell's book is...|\n",
      "|    4|I heard a song or...|i liked this albu...|\n",
      "|    3|I wrote a harsh r...|Better than I tho...|\n",
      "+-----+--------------------+--------------------+\n",
      "only showing top 20 rows\n",
      "\n"
     ]
    }
   ],
   "source": [
    "def read_strings(lines):\n",
    "    found = []\n",
    "    current_string = \"\"\n",
    "    in_string = False\n",
    "    i = 0\n",
    "    while i < len(lines):\n",
    "        c = lines[i]\n",
    "        if not in_string:\n",
    "            if c == '\"':\n",
    "                in_string = True\n",
    "            elif c in [' ', ','] :\n",
    "                pass\n",
    "            else:\n",
    "                print(\"Something is wrong. Found \", c , ' between strings')\n",
    "        elif c == '\"':\n",
    "            if i < (len(lines) - 1) and lines[i+1] == '\"':\n",
    "                current_string += '\"'\n",
    "                i += 1\n",
    "            else:\n",
    "                found.append(current_string)\n",
    "                current_string = \"\"\n",
    "                in_string = False\n",
    "        else:\n",
    "            current_string += c\n",
    "        i += 1\n",
    "    return found\n",
    "\n",
    "def to_row(line):\n",
    "    obj = read_strings(line)\n",
    "    return Row(label=int(obj[0]), title=obj[1], review=obj[2])\n",
    "\n",
    "rowrdd = data.map(to_row)\n",
    "df = rowrdd.toDF()\n",
    "df.show()\n",
    "\n"
   ]
  },
  {
   "cell_type": "code",
   "execution_count": null,
   "metadata": {},
   "outputs": [],
   "source": [
    "\n"
   ]
  },
  {
   "cell_type": "markdown",
   "metadata": {},
   "source": [
    "## Twitter Data"
   ]
  }
 ],
 "metadata": {
  "kernelspec": {
   "display_name": "Python 3",
   "language": "python",
   "name": "python3"
  },
  "language_info": {
   "codemirror_mode": {
    "name": "ipython",
    "version": 3
   },
   "file_extension": ".py",
   "mimetype": "text/x-python",
   "name": "python",
   "nbconvert_exporter": "python",
   "pygments_lexer": "ipython3",
   "version": "3.6.8"
  },
  "toc": {
   "base_numbering": 1,
   "nav_menu": {},
   "number_sections": true,
   "sideBar": true,
   "skip_h1_title": false,
   "title_cell": "Table of Contents",
   "title_sidebar": "Contents",
   "toc_cell": false,
   "toc_position": {},
   "toc_section_display": true,
   "toc_window_display": false
  }
 },
 "nbformat": 4,
 "nbformat_minor": 2
}
